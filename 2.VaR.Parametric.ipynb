{
 "cells": [
  {
   "cell_type": "markdown",
   "metadata": {},
   "source": [
    "---\n",
    "### **Value at Risk (VaR) - The Parametric Method**\n",
    "---"
   ]
  },
  {
   "cell_type": "markdown",
   "metadata": {},
   "source": [
    "Importing the necessary libraries."
   ]
  },
  {
   "cell_type": "code",
   "execution_count": 1,
   "metadata": {},
   "outputs": [],
   "source": [
    "import numpy as np\n",
    "import pandas as pd\n",
    "import datetime as dt\n",
    "import yfinance as yf\n",
    "import matplotlib.pyplot as plt\n",
    "from scipy.stats import norm"
   ]
  },
  {
   "cell_type": "markdown",
   "metadata": {},
   "source": [
    "Setting the **time range** for a certain amount of years."
   ]
  },
  {
   "cell_type": "code",
   "execution_count": 2,
   "metadata": {},
   "outputs": [],
   "source": [
    "years     = 15\n",
    "endDate   = dt.datetime.now()\n",
    "startDate = endDate - dt.timedelta(days=365*years)"
   ]
  },
  {
   "cell_type": "markdown",
   "metadata": {},
   "source": [
    "Create a list of **ticker**."
   ]
  },
  {
   "cell_type": "code",
   "execution_count": 3,
   "metadata": {},
   "outputs": [],
   "source": [
    "# SPY := Largest S&P-500 ETF\n",
    "# BND := Largest bond market ETF\n",
    "# GLD := Largest commodity-based ETF that tracks the price of Gold\n",
    "# QQQ := Largest Nasdaq ETF\n",
    "# VTI := Vanguard's all-world stock index\n",
    "\n",
    "tickers = ['SPY', 'BND', 'GLD', 'QQQ', 'VTI']"
   ]
  },
  {
   "cell_type": "markdown",
   "metadata": {},
   "source": [
    "For each of these tickers, we download the daily adjusted **close prices**.\n",
    "\n",
    "NB: We use *adjusted close prices* rather than *normal* ones because *adjusted close prices* account for dividends stock splits and our analysis will be *more accurate* by incorporating those."
   ]
  },
  {
   "cell_type": "code",
   "execution_count": 4,
   "metadata": {},
   "outputs": [
    {
     "name": "stderr",
     "output_type": "stream",
     "text": [
      "[*********************100%***********************]  1 of 1 completed\n",
      "[*********************100%***********************]  1 of 1 completed\n",
      "[*********************100%***********************]  1 of 1 completed\n",
      "[*********************100%***********************]  1 of 1 completed\n",
      "[*********************100%***********************]  1 of 1 completed\n"
     ]
    },
    {
     "data": {
      "text/html": [
       "<div>\n",
       "<style scoped>\n",
       "    .dataframe tbody tr th:only-of-type {\n",
       "        vertical-align: middle;\n",
       "    }\n",
       "\n",
       "    .dataframe tbody tr th {\n",
       "        vertical-align: top;\n",
       "    }\n",
       "\n",
       "    .dataframe thead th {\n",
       "        text-align: right;\n",
       "    }\n",
       "</style>\n",
       "<table border=\"1\" class=\"dataframe\">\n",
       "  <thead>\n",
       "    <tr style=\"text-align: right;\">\n",
       "      <th></th>\n",
       "      <th>SPY</th>\n",
       "      <th>BND</th>\n",
       "      <th>GLD</th>\n",
       "      <th>QQQ</th>\n",
       "      <th>VTI</th>\n",
       "    </tr>\n",
       "    <tr>\n",
       "      <th>Date</th>\n",
       "      <th></th>\n",
       "      <th></th>\n",
       "      <th></th>\n",
       "      <th></th>\n",
       "      <th></th>\n",
       "    </tr>\n",
       "  </thead>\n",
       "  <tbody>\n",
       "    <tr>\n",
       "      <th>2010-02-12</th>\n",
       "      <td>82.010902</td>\n",
       "      <td>51.598267</td>\n",
       "      <td>107.040001</td>\n",
       "      <td>38.222775</td>\n",
       "      <td>41.808720</td>\n",
       "    </tr>\n",
       "    <tr>\n",
       "      <th>2010-02-16</th>\n",
       "      <td>83.301376</td>\n",
       "      <td>51.663422</td>\n",
       "      <td>109.620003</td>\n",
       "      <td>38.711910</td>\n",
       "      <td>42.510998</td>\n",
       "    </tr>\n",
       "    <tr>\n",
       "      <th>2010-02-17</th>\n",
       "      <td>83.696083</td>\n",
       "      <td>51.546200</td>\n",
       "      <td>109.250000</td>\n",
       "      <td>38.930264</td>\n",
       "      <td>42.747646</td>\n",
       "    </tr>\n",
       "    <tr>\n",
       "      <th>2010-02-18</th>\n",
       "      <td>84.189484</td>\n",
       "      <td>51.474556</td>\n",
       "      <td>109.980003</td>\n",
       "      <td>39.174843</td>\n",
       "      <td>42.991920</td>\n",
       "    </tr>\n",
       "    <tr>\n",
       "      <th>2010-02-19</th>\n",
       "      <td>84.364059</td>\n",
       "      <td>51.474556</td>\n",
       "      <td>109.470001</td>\n",
       "      <td>39.157391</td>\n",
       "      <td>43.144585</td>\n",
       "    </tr>\n",
       "  </tbody>\n",
       "</table>\n",
       "</div>"
      ],
      "text/plain": [
       "                  SPY        BND         GLD        QQQ        VTI\n",
       "Date                                                              \n",
       "2010-02-12  82.010902  51.598267  107.040001  38.222775  41.808720\n",
       "2010-02-16  83.301376  51.663422  109.620003  38.711910  42.510998\n",
       "2010-02-17  83.696083  51.546200  109.250000  38.930264  42.747646\n",
       "2010-02-18  84.189484  51.474556  109.980003  39.174843  42.991920\n",
       "2010-02-19  84.364059  51.474556  109.470001  39.157391  43.144585"
      ]
     },
     "execution_count": 4,
     "metadata": {},
     "output_type": "execute_result"
    }
   ],
   "source": [
    "adj_close_df = pd.DataFrame()\n",
    "\n",
    "for ticker in tickers:\n",
    "    data = yf.download(ticker, start=startDate, end=endDate)\n",
    "    adj_close_df[ticker] = data['Adj Close']\n",
    "\n",
    "adj_close_df.head(n=5)"
   ]
  },
  {
   "cell_type": "markdown",
   "metadata": {},
   "source": [
    "Calculate the **daily log returns** and drop any NAs.\n",
    "\n",
    "The **simple return** (or percentage change) is calculated as:\n",
    "\n",
    "$$\n",
    "R_t = \\frac{P_t}{P_{t-1}} - 1\n",
    "$$\n",
    "\n",
    "where:\n",
    "- $R_t$ is the return for day \\( t \\),\n",
    "- $P_t$ is the price at day \\( t \\),\n",
    "- $P_{t-1}$ is the price at the previous day.\n",
    "\n",
    "The **log return** is defined as:\n",
    "\n",
    "$$\n",
    "r_t = \\ln \\left(\\frac{P_t}{P_{t-1}}\\right)\n",
    "$$\n",
    "\n",
    "where $\\ln$ represents the natural logarithm.\n",
    "\n",
    "**Why Use Log Returns?** Logarithmic returns have an important property: **they are additive over time**.\n",
    "\n",
    "For example, given two consecutive days' returns:\n",
    "\n",
    "$$\n",
    "r_t = \\ln \\left(\\frac{P_t}{P_{t-1}}\\right), \\quad r_{t+1} = \\ln \\left(\\frac{P_{t+1}}{P_t}\\right)\n",
    "$$\n",
    "\n",
    "Adding these two:\n",
    "\n",
    "$$\n",
    "r_t + r_{t+1} = \\ln \\left(\\frac{P_t}{P_{t-1}}\\right) + \\ln \\left(\\frac{P_{t+1}}{P_t}\\right)\n",
    "$$\n",
    "\n",
    "Using the logarithmic property:\n",
    "\n",
    "$$\n",
    "\\ln a + \\ln b = \\ln (a \\cdot b)\n",
    "$$\n",
    "\n",
    "we get:\n",
    "\n",
    "$$\n",
    "r_t + r_{t+1} = \\ln \\left(\\frac{P_{t+1}}{P_{t-1}}\\right)\n",
    "$$\n",
    "\n",
    "This means that log returns can be **directly summed over multiple periods**, making them convenient for time-series analysis, portfolio aggregation, and statistical modeling. In contrast, simple returns are **not additive** but must be compounded, making calculations more complex when dealing with multiple periods.\n"
   ]
  },
  {
   "cell_type": "code",
   "execution_count": 5,
   "metadata": {},
   "outputs": [
    {
     "data": {
      "text/html": [
       "<div>\n",
       "<style scoped>\n",
       "    .dataframe tbody tr th:only-of-type {\n",
       "        vertical-align: middle;\n",
       "    }\n",
       "\n",
       "    .dataframe tbody tr th {\n",
       "        vertical-align: top;\n",
       "    }\n",
       "\n",
       "    .dataframe thead th {\n",
       "        text-align: right;\n",
       "    }\n",
       "</style>\n",
       "<table border=\"1\" class=\"dataframe\">\n",
       "  <thead>\n",
       "    <tr style=\"text-align: right;\">\n",
       "      <th></th>\n",
       "      <th>SPY</th>\n",
       "      <th>BND</th>\n",
       "      <th>GLD</th>\n",
       "      <th>QQQ</th>\n",
       "      <th>VTI</th>\n",
       "    </tr>\n",
       "    <tr>\n",
       "      <th>Date</th>\n",
       "      <th></th>\n",
       "      <th></th>\n",
       "      <th></th>\n",
       "      <th></th>\n",
       "      <th></th>\n",
       "    </tr>\n",
       "  </thead>\n",
       "  <tbody>\n",
       "    <tr>\n",
       "      <th>2010-02-16</th>\n",
       "      <td>0.015613</td>\n",
       "      <td>0.001262</td>\n",
       "      <td>0.023817</td>\n",
       "      <td>0.012716</td>\n",
       "      <td>0.016658</td>\n",
       "    </tr>\n",
       "    <tr>\n",
       "      <th>2010-02-17</th>\n",
       "      <td>0.004727</td>\n",
       "      <td>-0.002272</td>\n",
       "      <td>-0.003381</td>\n",
       "      <td>0.005625</td>\n",
       "      <td>0.005551</td>\n",
       "    </tr>\n",
       "    <tr>\n",
       "      <th>2010-02-18</th>\n",
       "      <td>0.005878</td>\n",
       "      <td>-0.001391</td>\n",
       "      <td>0.006660</td>\n",
       "      <td>0.006263</td>\n",
       "      <td>0.005698</td>\n",
       "    </tr>\n",
       "    <tr>\n",
       "      <th>2010-02-19</th>\n",
       "      <td>0.002071</td>\n",
       "      <td>0.000000</td>\n",
       "      <td>-0.004648</td>\n",
       "      <td>-0.000446</td>\n",
       "      <td>0.003545</td>\n",
       "    </tr>\n",
       "    <tr>\n",
       "      <th>2010-02-22</th>\n",
       "      <td>0.000180</td>\n",
       "      <td>-0.000380</td>\n",
       "      <td>-0.003661</td>\n",
       "      <td>-0.002010</td>\n",
       "      <td>-0.001594</td>\n",
       "    </tr>\n",
       "  </tbody>\n",
       "</table>\n",
       "</div>"
      ],
      "text/plain": [
       "                 SPY       BND       GLD       QQQ       VTI\n",
       "Date                                                        \n",
       "2010-02-16  0.015613  0.001262  0.023817  0.012716  0.016658\n",
       "2010-02-17  0.004727 -0.002272 -0.003381  0.005625  0.005551\n",
       "2010-02-18  0.005878 -0.001391  0.006660  0.006263  0.005698\n",
       "2010-02-19  0.002071  0.000000 -0.004648 -0.000446  0.003545\n",
       "2010-02-22  0.000180 -0.000380 -0.003661 -0.002010 -0.001594"
      ]
     },
     "execution_count": 5,
     "metadata": {},
     "output_type": "execute_result"
    }
   ],
   "source": [
    "log_returns = np.log(adj_close_df / adj_close_df.shift(1))\n",
    "log_returns = log_returns.dropna()\n",
    "\n",
    "log_returns.head(n=5)"
   ]
  },
  {
   "cell_type": "markdown",
   "metadata": {},
   "source": [
    "Create an **equally weighted portfolio**."
   ]
  },
  {
   "cell_type": "code",
   "execution_count": 6,
   "metadata": {},
   "outputs": [],
   "source": [
    "# Assume a portfolio value of $1M, equally weighted.\n",
    "portfolio_value = 1000000\n",
    "weights         = np.array([1 / len(tickers)] * len(tickers))"
   ]
  },
  {
   "cell_type": "markdown",
   "metadata": {},
   "source": [
    "Calculate the **historical portfolio returns** based on our equally weighted portfolio."
   ]
  },
  {
   "cell_type": "code",
   "execution_count": 7,
   "metadata": {},
   "outputs": [
    {
     "data": {
      "text/plain": [
       "Date\n",
       "2010-02-16    0.014013\n",
       "2010-02-17    0.002050\n",
       "2010-02-18    0.004622\n",
       "2010-02-19    0.000105\n",
       "2010-02-22   -0.001493\n",
       "                ...   \n",
       "2025-02-03   -0.003178\n",
       "2025-02-04    0.007460\n",
       "2025-02-05    0.004896\n",
       "2025-02-06    0.001477\n",
       "2025-02-07   -0.006426\n",
       "Length: 3770, dtype: float64"
      ]
     },
     "execution_count": 7,
     "metadata": {},
     "output_type": "execute_result"
    }
   ],
   "source": [
    "historical_returns = (log_returns * weights).sum(axis=1)\n",
    "historical_returns"
   ]
  },
  {
   "cell_type": "markdown",
   "metadata": {},
   "source": [
    "Find the X-days historical returns. We:\n",
    "- Set a 5-day period.\n",
    "- Create a DataFrame based on 5-days rolling returns.\n",
    "\n",
    "We aim to compute the **rolling cumulative returns** over a specified period (**X days**), allowing us to analyze short-term return trends instead of just daily fluctuations.\n",
    "\n",
    "We first calculate the **daily weighted portfolio returns**:\n",
    "\n",
    "$$\n",
    "\\text{historical\\returns} = \\sum_{i=1}^{n} w_i \\cdot r_i\n",
    "$$\n",
    "\n",
    "where:\n",
    "- $w_i$ = portfolio weight of asset $i$,\n",
    "- $r_i$ = daily log return of asset $i$,\n",
    "- The sum is taken **across all assets** for each day.\n",
    "\n",
    "To compute **X-day cumulative returns**, we use a **rolling sum** over the daily returns:\n",
    "\n",
    "$$\n",
    "R_t = \\sum_{j=t-X+1}^{t} r_j\n",
    "$$\n",
    "\n",
    "where:\n",
    "- $R_t$ is the **X-day cumulative return at time $t$**,\n",
    "- $r_j$ are the **individual daily returns** in the rolling window,\n",
    "- The window moves **day by day**, always summing the last X days.\n",
    "\n",
    "**Why Use a Rolling Sum?**\n",
    "- **Smooths out daily volatility** by aggregating past returns.\n",
    "- **Reveals short-term trends** in portfolio performance.\n",
    "- **Useful for risk and momentum analysis** in trading and investment strategies."
   ]
  },
  {
   "cell_type": "code",
   "execution_count": 8,
   "metadata": {},
   "outputs": [],
   "source": [
    "days = 5\n",
    "historical_x_day_returns = historical_returns.rolling(window = days).sum()\n",
    "historical_x_day_returns = historical_x_day_returns.dropna()"
   ]
  },
  {
   "cell_type": "markdown",
   "metadata": {},
   "source": [
    "Create an <u>annualized</u> covariance matrix for all the securities.\n",
    "\n",
    "The **covariance matrix** is a **square matrix** that contains the covariances between different assets in a portfolio. It helps measure how asset returns move together.\n",
    "\n",
    "For a portfolio with **n** assets, the covariance matrix $\\Sigma$ is an $n \\times n$ matrix where the element at position $(i, j)$ represents the covariance between the returns of asset $i$ and asset $j$:\n",
    "\n",
    "$$\n",
    "\\Sigma = \n",
    "\\begin{bmatrix}\n",
    "\\sigma_{1,1} & \\sigma_{1,2} & \\dots & \\sigma_{1,n} \\\\\n",
    "\\sigma_{2,1} & \\sigma_{2,2} & \\dots & \\sigma_{2,n} \\\\\n",
    "\\vdots & \\vdots & \\ddots & \\vdots \\\\\n",
    "\\sigma_{n,1} & \\sigma_{n,2} & \\dots & \\sigma_{n,n}\n",
    "\\end{bmatrix}\n",
    "$$\n",
    "\n",
    "where $\\sigma_{i,j}$ is the covariance between asset $i$ and asset $j$, given by:\n",
    "\n",
    "$$\n",
    "\\sigma_{i,j} = \\text{Cov}(R_i, R_j) = \\mathbb{E}[(R_i - \\mu_i)(R_j - \\mu_j)]\n",
    "$$\n",
    "\n",
    "- If $i = j$, then $\\sigma_{i,j}$ represents the **variance** of asset $i$ $(\\sigma^2_i)$.\n",
    "- If $i \\neq j$, then $\\sigma_{i,j}$ represents the **covariance** between assets $i$ and $j$."
   ]
  },
  {
   "cell_type": "code",
   "execution_count": 9,
   "metadata": {},
   "outputs": [
    {
     "data": {
      "text/html": [
       "<div>\n",
       "<style scoped>\n",
       "    .dataframe tbody tr th:only-of-type {\n",
       "        vertical-align: middle;\n",
       "    }\n",
       "\n",
       "    .dataframe tbody tr th {\n",
       "        vertical-align: top;\n",
       "    }\n",
       "\n",
       "    .dataframe thead th {\n",
       "        text-align: right;\n",
       "    }\n",
       "</style>\n",
       "<table border=\"1\" class=\"dataframe\">\n",
       "  <thead>\n",
       "    <tr style=\"text-align: right;\">\n",
       "      <th></th>\n",
       "      <th>SPY</th>\n",
       "      <th>BND</th>\n",
       "      <th>GLD</th>\n",
       "      <th>QQQ</th>\n",
       "      <th>VTI</th>\n",
       "    </tr>\n",
       "  </thead>\n",
       "  <tbody>\n",
       "    <tr>\n",
       "      <th>SPY</th>\n",
       "      <td>0.029141</td>\n",
       "      <td>0.000061</td>\n",
       "      <td>0.001258</td>\n",
       "      <td>0.032457</td>\n",
       "      <td>0.029754</td>\n",
       "    </tr>\n",
       "    <tr>\n",
       "      <th>BND</th>\n",
       "      <td>0.000061</td>\n",
       "      <td>0.002364</td>\n",
       "      <td>0.002295</td>\n",
       "      <td>0.000282</td>\n",
       "      <td>0.000112</td>\n",
       "    </tr>\n",
       "    <tr>\n",
       "      <th>GLD</th>\n",
       "      <td>0.001258</td>\n",
       "      <td>0.002295</td>\n",
       "      <td>0.023915</td>\n",
       "      <td>0.001594</td>\n",
       "      <td>0.001400</td>\n",
       "    </tr>\n",
       "    <tr>\n",
       "      <th>QQQ</th>\n",
       "      <td>0.032457</td>\n",
       "      <td>0.000282</td>\n",
       "      <td>0.001594</td>\n",
       "      <td>0.041910</td>\n",
       "      <td>0.033148</td>\n",
       "    </tr>\n",
       "    <tr>\n",
       "      <th>VTI</th>\n",
       "      <td>0.029754</td>\n",
       "      <td>0.000112</td>\n",
       "      <td>0.001400</td>\n",
       "      <td>0.033148</td>\n",
       "      <td>0.030627</td>\n",
       "    </tr>\n",
       "  </tbody>\n",
       "</table>\n",
       "</div>"
      ],
      "text/plain": [
       "          SPY       BND       GLD       QQQ       VTI\n",
       "SPY  0.029141  0.000061  0.001258  0.032457  0.029754\n",
       "BND  0.000061  0.002364  0.002295  0.000282  0.000112\n",
       "GLD  0.001258  0.002295  0.023915  0.001594  0.001400\n",
       "QQQ  0.032457  0.000282  0.001594  0.041910  0.033148\n",
       "VTI  0.029754  0.000112  0.001400  0.033148  0.030627"
      ]
     },
     "execution_count": 9,
     "metadata": {},
     "output_type": "execute_result"
    }
   ],
   "source": [
    "# There are 252 trading days in a year\n",
    "cov_matrix = log_returns.cov() * 252\n",
    "cov_matrix"
   ]
  },
  {
   "cell_type": "code",
   "execution_count": 10,
   "metadata": {},
   "outputs": [
    {
     "data": {
      "image/png": "[encoded data removed]",
      "text/plain": [
       "<Figure size 600x400 with 2 Axes>"
      ]
     },
     "metadata": {},
     "output_type": "display_data"
    }
   ],
   "source": [
    "# Bonus: plotting the covariance matrix\n",
    "import seaborn as sns\n",
    "\n",
    "# Plot heatmap\n",
    "plt.figure(figsize=(6, 4))\n",
    "sns.heatmap(cov_matrix, annot=True, fmt=\".2e\", cmap=\"coolwarm\", center=cov_matrix.values.mean(), linewidths=0.5)\n",
    "\n",
    "plt.title(\"Covariance Matrix Heatmap\")\n",
    "plt.show()"
   ]
  },
  {
   "cell_type": "markdown",
   "metadata": {},
   "source": [
    "Calculate **portfolio standard deviation**.\n",
    "\n",
    "The standard deviation (volatility) of the portfolio can be computed as:\n",
    "\n",
    "$$\n",
    "\\sigma_p = \\sqrt{w^T \\Sigma w}\n",
    "$$\n",
    "\n",
    "where $w$ is the weight vector and $\\Sigma$ is the covariance matrix."
   ]
  },
  {
   "cell_type": "code",
   "execution_count": 11,
   "metadata": {},
   "outputs": [],
   "source": [
    "variance          = weights.T @ cov_matrix @ weights\n",
    "portfolio_std_dev = np.sqrt(variance)"
   ]
  },
  {
   "cell_type": "markdown",
   "metadata": {},
   "source": [
    "Set different **confidence levels** to visualize. "
   ]
  },
  {
   "cell_type": "code",
   "execution_count": 12,
   "metadata": {},
   "outputs": [],
   "source": [
    "confidence_levels = [0.9, 0.95, 0.99]"
   ]
  },
  {
   "cell_type": "markdown",
   "metadata": {},
   "source": [
    "Calculate **VaR** for different confidence levels.\n",
    "\n",
    "**Parametric (Variance-Covariance) Method**: This approach assumes that portfolio returns are **normally distributed**, allowing us to estimate VaR using the portfolio's **standard deviation** and a **Z-score** corresponding to the confidence level.\n",
    "\n",
    "The **formula** for parametric VaR is:\n",
    "\n",
    "$$\n",
    "VaR = P_0 \\cdot \\sigma_p \\cdot Z_{\\alpha} \\cdot \\sqrt{\\frac{T}{252}}\n",
    "$$\n",
    "\n",
    "where:\n",
    "- $P_0$ = **portfolio value**\n",
    "- $\\sigma_p$ = **portfolio standard deviation**\n",
    "- $Z_{\\alpha}$ = **Z-score corresponding to the confidence level $\\alpha$**\n",
    "- $T$ = **time horizon (number of days)**\n",
    "- **252** = Trading days in a year (used to annualize volatility)\n",
    "\n",
    "**1. Portfolio Value $P_0$**: We express VaR in **monetary terms** by multiplying by $P_0$, since we want the final result to be a **dollar amount (or other currency)**.\n",
    "\n",
    "**2. Volatility $\\sigma_p$**: The standard deviation $\\sigma_p$ tells us **how much the portfolio's returns fluctuate on average**. Higher volatility means **higher risk**, so it naturally **scales our risk estimate**.\n",
    "\n",
    "**3. Scaling for Time Horizon $\\frac{T}{252}$**: Volatility is **annualized**, meaning it represents **1 year of risk**. If we want VaR for $T$ days, we adjust using:\n",
    "\n",
    "$$\n",
    "\\text{Volatility over T days} = \\sigma_p \\cdot \\sqrt{\\frac{T}{252}}\n",
    "$$\n",
    "\n",
    "This follows from the **square-root rule of time scaling**, which assumes **returns scale with the square root of time** (a property of **Brownian motion in finance**).\n",
    "\n",
    "**4. Role of the Z-score $Z_{\\alpha}$**\n",
    "- This is the **critical piece** of the formula! The **Z-score tells us how extreme a loss is at a given confidence level**.\n",
    "- The **standard normal distribution** $\\mathcal{N}(0,1)$ represents **probability percentiles** (cf *Aparté* below).\n",
    "- Multiplying by $Z_{\\alpha}$ **scales the standard deviation to estimate worst-case losses at a given probability level**.\n",
    "\n",
    "**Why Does This Give Us VaR?**\n",
    "- **Volatility measures risk**, but alone it doesn't tell us **how bad losses can get**.\n",
    "- **Z-score ensures we capture extreme losses**, not just **average fluctuations**.\n",
    "- **Time scaling adjusts for multi-day horizons**.\n",
    "\n",
    "Thus, this formula gives us the **worst expected loss over $T$ days at a given confidence level $\\alpha$**, making it a **powerful risk metric**. Finally, this method provides a **quick and efficient estimate** of risk but assumes **normality of returns**, which may not always hold in real markets."
   ]
  },
  {
   "cell_type": "code",
   "execution_count": 13,
   "metadata": {},
   "outputs": [],
   "source": [
    "VaRs = []\n",
    "\n",
    "for level in confidence_levels:\n",
    "    VaR = portfolio_value * portfolio_std_dev * norm.ppf(level) * np.sqrt(days / 252)\n",
    "    VaRs.append(VaR)"
   ]
  },
  {
   "cell_type": "markdown",
   "metadata": {},
   "source": [
    "*Aparté*: What is `norm.ppf(level)`?\n",
    "\n",
    "This function represents the **Percent-Point Function (PPF)**, also known as the **inverse cumulative distribution function (inverse CDF)** of the **standard normal distribution**. Mathematically, it is represented as:\n",
    "\n",
    "$$\n",
    "Z_{\\alpha} = \\Phi^{-1}(\\alpha)\n",
    "$$\n",
    "\n",
    "where:\n",
    "- $Z_{\\alpha}$ is the **Z-score** corresponding to the confidence level $\\alpha$,\n",
    "- $\\Phi^{-1}(\\alpha)$ is the **inverse CDF of the standard normal distribution**.\n",
    "\n",
    "For a **standard normal distribution** $\\mathcal{N}(0,1)$, the CDF is:\n",
    "\n",
    "$$\n",
    "\\Phi(Z) = \\frac{1}{\\sqrt{2\\pi}} \\int_{-\\infty}^{Z} e^{-\\frac{x^2}{2}} dx\n",
    "$$\n",
    "\n",
    "**Why Do We Use It?**\n",
    "- `norm.ppf(level)` finds the **critical Z-score** for a given confidence level.\n",
    "- Example values:\n",
    "  - $\\Phi^{-1}(0.90) \\approx 1.28$ → 90% confidence\n",
    "  - $\\Phi^{-1}(0.95) \\approx 1.64$ → 95% confidence\n",
    "  - $\\Phi^{-1}(0.99) \\approx 2.33$ → 99% confidence\n",
    "\n",
    "**⚠️ Not to confuse with:**  \n",
    "- The **two-tailed** confidence intervals often used in hypothesis testing:  \n",
    "  - A **90% two-tailed confidence interval** corresponds to $ Z = 1.64 $, $\\Phi^{-1}(0.950)$, since 5% is in each tail.\n",
    "  - A **95% two-tailed confidence interval** corresponds to $ Z = 1.96 $, $\\Phi^{-1}(0.975)$.\n",
    "  - A **99% two-tailed confidence interval** corresponds to $ Z = 2.58 $, $\\Phi^{-1}(0.995)$\n",
    "\n",
    "In **risk management (e.g., VaR calculations)**, we use **one-tailed Z-scores**, where we are interested in the **worst-case losses**, not the middle range of the distribution.\n",
    "\n",
    "End of *aparté*."
   ]
  },
  {
   "cell_type": "markdown",
   "metadata": {},
   "source": [
    "Print out the **VaR results**."
   ]
  },
  {
   "cell_type": "code",
   "execution_count": 14,
   "metadata": {},
   "outputs": [
    {
     "name": "stdout",
     "output_type": "stream",
     "text": [
      "Confidence Level     Value at Risk       \n",
      "----------------------------------------\n",
      "    90%:              $ 20,823.98\n",
      "    95%:              $ 26,727.28\n",
      "    99%:              $ 37,800.91\n"
     ]
    }
   ],
   "source": [
    "# Print table headers\n",
    "print(f'{\"Confidence Level\":<20} {\"Value at Risk\":<20}')\n",
    "print('-' * 40)\n",
    "\n",
    "# Print each confidence level and its corresponding VaR value\n",
    "for level, VaR in zip(confidence_levels, VaRs):\n",
    "    print(f'{level * 100:>6.0f}%: {\"\":<12} ${VaR:>10,.2f}')"
   ]
  },
  {
   "cell_type": "code",
   "execution_count": 15,
   "metadata": {},
   "outputs": [
    {
     "data": {
      "image/png": "[encoded data removed]",
      "text/plain": [
       "<Figure size 1000x600 with 1 Axes>"
      ]
     },
     "metadata": {},
     "output_type": "display_data"
    }
   ],
   "source": [
    "# Convert returns to dollar values for the histogram\n",
    "historical_x_day_returns_dollar = historical_x_day_returns * portfolio_value\n",
    "\n",
    "plt.figure(figsize=(10, 6))\n",
    "\n",
    "# Plot the histogram\n",
    "plt.hist(historical_x_day_returns_dollar, bins=100, density=True, alpha=0.5, label=f'{days}-Day Returns')\n",
    "\n",
    "# Add Value at Risk (VaR) line at each confidence level\n",
    "for level, VaR in zip(confidence_levels, VaRs):\n",
    "    plt.axvline(-VaR, color='red', linestyle='dashed', linewidth=1, label=f'VaR at {int(level * 100)}% CL')\n",
    "\n",
    "# Formatting labels and title\n",
    "plt.xlabel(f'{days}-Day Portfolio Return ($)')\n",
    "plt.ylabel('Frequency')\n",
    "plt.title(f'Distribution of Portfolio {days}-Day Returns and Parametric VaR Estimates', fontsize=10, fontweight='bold')\n",
    "\n",
    "plt.xlim(left=-65000, right=65000)\n",
    "plt.legend()\n",
    "plt.show()"
   ]
  },
  {
   "cell_type": "markdown",
   "metadata": {},
   "source": [
    "The histogram represents the **theoretical distribution of portfolio returns over 5 days** using the **parametric (variance-covariance) approach**. The **blue bars** show the **frequency of different gain/loss scenarios**, assuming a **normal distribution of returns** based on historical volatility. The **three red dashed lines** indicate the **Value at Risk (VaR) thresholds** at **90%, 95%, and 99% confidence levels**, representing the **worst expected losses under each probability level**. Unlike the Monte Carlo approach, which simulates returns, this method directly calculates risk using **portfolio standard deviation and Z-scores from the normal distribution**. This visualization helps assess **downside risk**, illustrating both **typical portfolio behavior** and the **potential for extreme losses based on statistical assumptions**."
   ]
  }
 ],
 "metadata": {
  "kernelspec": {
   "display_name": "Python 3",
   "language": "python",
   "name": "python3"
  },
  "language_info": {
   "codemirror_mode": {
    "name": "ipython",
    "version": 3
   },
   "file_extension": ".py",
   "mimetype": "text/x-python",
   "name": "python",
   "nbconvert_exporter": "python",
   "pygments_lexer": "ipython3",
   "version": "3.12.5"
  }
 },
 "nbformat": 4,
 "nbformat_minor": 2
}
