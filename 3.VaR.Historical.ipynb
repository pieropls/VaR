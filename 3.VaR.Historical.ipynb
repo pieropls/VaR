{
 "cells": [
  {
   "cell_type": "markdown",
   "metadata": {},
   "source": [
    "---\n",
    "### **Value at Risk (VaR) - The Historical Method**\n",
    "---"
   ]
  },
  {
   "cell_type": "markdown",
   "metadata": {},
   "source": [
    "Importing the necessary libraries."
   ]
  },
  {
   "cell_type": "code",
   "execution_count": 1,
   "metadata": {},
   "outputs": [],
   "source": [
    "import numpy as np\n",
    "import pandas as pd\n",
    "import datetime as dt\n",
    "import yfinance as yf\n",
    "import matplotlib.pyplot as plt\n",
    "from scipy.stats import norm"
   ]
  },
  {
   "cell_type": "markdown",
   "metadata": {},
   "source": [
    "Setting the **time range** for a certain amount of years."
   ]
  },
  {
   "cell_type": "code",
   "execution_count": 2,
   "metadata": {},
   "outputs": [],
   "source": [
    "years     = 15\n",
    "endDate   = dt.datetime.now()\n",
    "startDate = endDate - dt.timedelta(days=365*years)"
   ]
  },
  {
   "cell_type": "markdown",
   "metadata": {},
   "source": [
    "Create a list of **ticker**."
   ]
  },
  {
   "cell_type": "code",
   "execution_count": 3,
   "metadata": {},
   "outputs": [],
   "source": [
    "# SPY := Largest S&P-500 ETF\n",
    "# BND := Largest bond market ETF\n",
    "# GLD := Largest commodity-based ETF that tracks the price of Gold\n",
    "# QQQ := Largest Nasdaq ETF\n",
    "# VTI := Vanguard's all-world stock index\n",
    "\n",
    "tickers = ['SPY', 'BND', 'GLD', 'QQQ', 'VTI']"
   ]
  },
  {
   "cell_type": "markdown",
   "metadata": {},
   "source": [
    "For each of these tickers, we download the daily adjusted **close prices**.\n",
    "\n",
    "NB: We use *adjusted close prices* rather than *normal* ones because *adjusted close prices* account for dividends stock splits and our analysis will be *more accurate* by incorporating those."
   ]
  },
  {
   "cell_type": "code",
   "execution_count": 4,
   "metadata": {},
   "outputs": [
    {
     "name": "stderr",
     "output_type": "stream",
     "text": [
      "[*********************100%***********************]  1 of 1 completed\n",
      "[*********************100%***********************]  1 of 1 completed\n",
      "[*********************100%***********************]  1 of 1 completed\n",
      "[*********************100%***********************]  1 of 1 completed\n",
      "[*********************100%***********************]  1 of 1 completed\n"
     ]
    },
    {
     "data": {
      "text/html": [
       "<div>\n",
       "<style scoped>\n",
       "    .dataframe tbody tr th:only-of-type {\n",
       "        vertical-align: middle;\n",
       "    }\n",
       "\n",
       "    .dataframe tbody tr th {\n",
       "        vertical-align: top;\n",
       "    }\n",
       "\n",
       "    .dataframe thead th {\n",
       "        text-align: right;\n",
       "    }\n",
       "</style>\n",
       "<table border=\"1\" class=\"dataframe\">\n",
       "  <thead>\n",
       "    <tr style=\"text-align: right;\">\n",
       "      <th></th>\n",
       "      <th>SPY</th>\n",
       "      <th>BND</th>\n",
       "      <th>GLD</th>\n",
       "      <th>QQQ</th>\n",
       "      <th>VTI</th>\n",
       "    </tr>\n",
       "    <tr>\n",
       "      <th>Date</th>\n",
       "      <th></th>\n",
       "      <th></th>\n",
       "      <th></th>\n",
       "      <th></th>\n",
       "      <th></th>\n",
       "    </tr>\n",
       "  </thead>\n",
       "  <tbody>\n",
       "    <tr>\n",
       "      <th>2010-02-12</th>\n",
       "      <td>82.010902</td>\n",
       "      <td>51.598305</td>\n",
       "      <td>107.040001</td>\n",
       "      <td>38.222763</td>\n",
       "      <td>41.808723</td>\n",
       "    </tr>\n",
       "    <tr>\n",
       "      <th>2010-02-16</th>\n",
       "      <td>83.301361</td>\n",
       "      <td>51.663418</td>\n",
       "      <td>109.620003</td>\n",
       "      <td>38.711922</td>\n",
       "      <td>42.510998</td>\n",
       "    </tr>\n",
       "    <tr>\n",
       "      <th>2010-02-17</th>\n",
       "      <td>83.696068</td>\n",
       "      <td>51.546211</td>\n",
       "      <td>109.250000</td>\n",
       "      <td>38.930275</td>\n",
       "      <td>42.747631</td>\n",
       "    </tr>\n",
       "    <tr>\n",
       "      <th>2010-02-18</th>\n",
       "      <td>84.189461</td>\n",
       "      <td>51.474586</td>\n",
       "      <td>109.980003</td>\n",
       "      <td>39.174839</td>\n",
       "      <td>42.991913</td>\n",
       "    </tr>\n",
       "    <tr>\n",
       "      <th>2010-02-19</th>\n",
       "      <td>84.364082</td>\n",
       "      <td>51.474586</td>\n",
       "      <td>109.470001</td>\n",
       "      <td>39.157368</td>\n",
       "      <td>43.144569</td>\n",
       "    </tr>\n",
       "  </tbody>\n",
       "</table>\n",
       "</div>"
      ],
      "text/plain": [
       "                  SPY        BND         GLD        QQQ        VTI\n",
       "Date                                                              \n",
       "2010-02-12  82.010902  51.598305  107.040001  38.222763  41.808723\n",
       "2010-02-16  83.301361  51.663418  109.620003  38.711922  42.510998\n",
       "2010-02-17  83.696068  51.546211  109.250000  38.930275  42.747631\n",
       "2010-02-18  84.189461  51.474586  109.980003  39.174839  42.991913\n",
       "2010-02-19  84.364082  51.474586  109.470001  39.157368  43.144569"
      ]
     },
     "execution_count": 4,
     "metadata": {},
     "output_type": "execute_result"
    }
   ],
   "source": [
    "adj_close_df = pd.DataFrame()\n",
    "\n",
    "for ticker in tickers:\n",
    "    data = yf.download(ticker, start=startDate, end=endDate)\n",
    "    adj_close_df[ticker] = data['Adj Close']\n",
    "\n",
    "adj_close_df.head(n=5)"
   ]
  },
  {
   "cell_type": "markdown",
   "metadata": {},
   "source": [
    "Calculate the **daily log returns** and drop any NAs.\n",
    "\n",
    "The **simple return** (or percentage change) is calculated as:\n",
    "\n",
    "$$\n",
    "R_t = \\frac{P_t}{P_{t-1}} - 1\n",
    "$$\n",
    "\n",
    "where:\n",
    "- $R_t$ is the return for day \\( t \\),\n",
    "- $P_t$ is the price at day \\( t \\),\n",
    "- $P_{t-1}$ is the price at the previous day.\n",
    "\n",
    "The **log return** is defined as:\n",
    "\n",
    "$$\n",
    "r_t = \\ln \\left(\\frac{P_t}{P_{t-1}}\\right)\n",
    "$$\n",
    "\n",
    "where $\\ln$ represents the natural logarithm.\n",
    "\n",
    "**Why Use Log Returns?** Logarithmic returns have an important property: **they are additive over time**.\n",
    "\n",
    "For example, given two consecutive days' returns:\n",
    "\n",
    "$$\n",
    "r_t = \\ln \\left(\\frac{P_t}{P_{t-1}}\\right), \\quad r_{t+1} = \\ln \\left(\\frac{P_{t+1}}{P_t}\\right)\n",
    "$$\n",
    "\n",
    "Adding these two:\n",
    "\n",
    "$$\n",
    "r_t + r_{t+1} = \\ln \\left(\\frac{P_t}{P_{t-1}}\\right) + \\ln \\left(\\frac{P_{t+1}}{P_t}\\right)\n",
    "$$\n",
    "\n",
    "Using the logarithmic property:\n",
    "\n",
    "$$\n",
    "\\ln a + \\ln b = \\ln (a \\cdot b)\n",
    "$$\n",
    "\n",
    "we get:\n",
    "\n",
    "$$\n",
    "r_t + r_{t+1} = \\ln \\left(\\frac{P_{t+1}}{P_{t-1}}\\right)\n",
    "$$\n",
    "\n",
    "This means that log returns can be **directly summed over multiple periods**, making them convenient for time-series analysis, portfolio aggregation, and statistical modeling. In contrast, simple returns are **not additive** but must be compounded, making calculations more complex when dealing with multiple periods.\n"
   ]
  },
  {
   "cell_type": "code",
   "execution_count": 5,
   "metadata": {},
   "outputs": [
    {
     "data": {
      "text/html": [
       "<div>\n",
       "<style scoped>\n",
       "    .dataframe tbody tr th:only-of-type {\n",
       "        vertical-align: middle;\n",
       "    }\n",
       "\n",
       "    .dataframe tbody tr th {\n",
       "        vertical-align: top;\n",
       "    }\n",
       "\n",
       "    .dataframe thead th {\n",
       "        text-align: right;\n",
       "    }\n",
       "</style>\n",
       "<table border=\"1\" class=\"dataframe\">\n",
       "  <thead>\n",
       "    <tr style=\"text-align: right;\">\n",
       "      <th></th>\n",
       "      <th>SPY</th>\n",
       "      <th>BND</th>\n",
       "      <th>GLD</th>\n",
       "      <th>QQQ</th>\n",
       "      <th>VTI</th>\n",
       "    </tr>\n",
       "    <tr>\n",
       "      <th>Date</th>\n",
       "      <th></th>\n",
       "      <th></th>\n",
       "      <th></th>\n",
       "      <th></th>\n",
       "      <th></th>\n",
       "    </tr>\n",
       "  </thead>\n",
       "  <tbody>\n",
       "    <tr>\n",
       "      <th>2010-02-16</th>\n",
       "      <td>0.015613</td>\n",
       "      <td>0.001261</td>\n",
       "      <td>0.023817</td>\n",
       "      <td>0.012716</td>\n",
       "      <td>0.016658</td>\n",
       "    </tr>\n",
       "    <tr>\n",
       "      <th>2010-02-17</th>\n",
       "      <td>0.004727</td>\n",
       "      <td>-0.002271</td>\n",
       "      <td>-0.003381</td>\n",
       "      <td>0.005625</td>\n",
       "      <td>0.005551</td>\n",
       "    </tr>\n",
       "    <tr>\n",
       "      <th>2010-02-18</th>\n",
       "      <td>0.005878</td>\n",
       "      <td>-0.001390</td>\n",
       "      <td>0.006660</td>\n",
       "      <td>0.006262</td>\n",
       "      <td>0.005698</td>\n",
       "    </tr>\n",
       "    <tr>\n",
       "      <th>2010-02-19</th>\n",
       "      <td>0.002072</td>\n",
       "      <td>0.000000</td>\n",
       "      <td>-0.004648</td>\n",
       "      <td>-0.000446</td>\n",
       "      <td>0.003545</td>\n",
       "    </tr>\n",
       "    <tr>\n",
       "      <th>2010-02-22</th>\n",
       "      <td>0.000180</td>\n",
       "      <td>-0.000380</td>\n",
       "      <td>-0.003661</td>\n",
       "      <td>-0.002009</td>\n",
       "      <td>-0.001593</td>\n",
       "    </tr>\n",
       "  </tbody>\n",
       "</table>\n",
       "</div>"
      ],
      "text/plain": [
       "                 SPY       BND       GLD       QQQ       VTI\n",
       "Date                                                        \n",
       "2010-02-16  0.015613  0.001261  0.023817  0.012716  0.016658\n",
       "2010-02-17  0.004727 -0.002271 -0.003381  0.005625  0.005551\n",
       "2010-02-18  0.005878 -0.001390  0.006660  0.006262  0.005698\n",
       "2010-02-19  0.002072  0.000000 -0.004648 -0.000446  0.003545\n",
       "2010-02-22  0.000180 -0.000380 -0.003661 -0.002009 -0.001593"
      ]
     },
     "execution_count": 5,
     "metadata": {},
     "output_type": "execute_result"
    }
   ],
   "source": [
    "log_returns = np.log(adj_close_df / adj_close_df.shift(1))\n",
    "log_returns = log_returns.dropna()\n",
    "\n",
    "log_returns.head(n=5)"
   ]
  },
  {
   "cell_type": "markdown",
   "metadata": {},
   "source": [
    "Create an **equally weighted portfolio**."
   ]
  },
  {
   "cell_type": "code",
   "execution_count": 6,
   "metadata": {},
   "outputs": [],
   "source": [
    "# Assume a portfolio value of $1M, equally weighted.\n",
    "portfolio_value = 1000000\n",
    "weights         = np.array([1 / len(tickers)] * len(tickers))"
   ]
  },
  {
   "cell_type": "markdown",
   "metadata": {},
   "source": [
    "Calculate the **historical portfolio returns** based on our equally weighted portfolio."
   ]
  },
  {
   "cell_type": "code",
   "execution_count": 7,
   "metadata": {},
   "outputs": [
    {
     "data": {
      "text/plain": [
       "Date\n",
       "2010-02-16    0.014013\n",
       "2010-02-17    0.002050\n",
       "2010-02-18    0.004622\n",
       "2010-02-19    0.000104\n",
       "2010-02-22   -0.001493\n",
       "                ...   \n",
       "2025-02-03   -0.003178\n",
       "2025-02-04    0.007460\n",
       "2025-02-05    0.004896\n",
       "2025-02-06    0.001477\n",
       "2025-02-07   -0.006426\n",
       "Length: 3770, dtype: float64"
      ]
     },
     "execution_count": 7,
     "metadata": {},
     "output_type": "execute_result"
    }
   ],
   "source": [
    "historical_returns = (log_returns * weights).sum(axis=1)\n",
    "historical_returns"
   ]
  },
  {
   "cell_type": "markdown",
   "metadata": {},
   "source": [
    "Find the X-days historical returns. We:\n",
    "- Set a 5-day period.\n",
    "- Create a DataFrame based on 5-days rolling returns.\n",
    "\n",
    "We aim to compute the **rolling cumulative returns** over a specified period (**X days**), allowing us to analyze short-term return trends instead of just daily fluctuations.\n",
    "\n",
    "We first calculate the **daily weighted portfolio returns**:\n",
    "\n",
    "$$\n",
    "\\text{historical returns} = \\sum_{i=1}^{n} w_i \\cdot r_i\n",
    "$$\n",
    "\n",
    "where:\n",
    "- $w_i$ = portfolio weight of asset $i$,\n",
    "- $r_i$ = daily log return of asset $i$,\n",
    "- The sum is taken **across all assets** for each day.\n",
    "\n",
    "To compute **X-day cumulative returns**, we use a **rolling sum** over the daily returns:\n",
    "\n",
    "$$\n",
    "R_t = \\sum_{j=t-X+1}^{t} r_j\n",
    "$$\n",
    "\n",
    "where:\n",
    "- $R_t$ is the **X-day cumulative return at time $t$**,\n",
    "- $r_j$ are the **individual daily returns** in the rolling window,\n",
    "- The window moves **day by day**, always summing the last X days.\n",
    "\n",
    "**Why Use a Rolling Sum?**\n",
    "- **Smooths out daily volatility** by aggregating past returns.\n",
    "- **Reveals short-term trends** in portfolio performance.\n",
    "- **Useful for risk and momentum analysis** in trading and investment strategies."
   ]
  },
  {
   "cell_type": "code",
   "execution_count": 8,
   "metadata": {},
   "outputs": [],
   "source": [
    "days = 5\n",
    "historical_x_day_returns = historical_returns.rolling(window = days).sum()\n",
    "historical_x_day_returns = historical_x_day_returns.dropna()"
   ]
  },
  {
   "cell_type": "markdown",
   "metadata": {},
   "source": [
    "Specify a confidence interval and calculate VaR.\n",
    "\n",
    "The general mathematical definition of **VaR at a confidence level $1 - \\alpha$** is:\n",
    "\n",
    "$$\n",
    "VaR_{1-\\alpha}(X) := \\inf \\{ t \\in \\mathbb{R} : \\Pr(X \\leq t) \\geq 1 - \\alpha \\}\n",
    "$$\n",
    "\n",
    "where:\n",
    "- $X$ represents the distribution of portfolio returns,\n",
    "- $t$ is the threshold return (percentile cutoff),\n",
    "- $\\alpha$ is the **significance level** (e.g., 5% for a 95% confidence interval),\n",
    "- $1 - \\alpha$ is the **confidence level** (e.g., 95%),\n",
    "- The **infimum (inf)** ensures we take the smallest possible value meeting the probability condition.\n",
    "\n",
    "**Formula Used in the Historical Method**: The **historical method** directly takes past return data and calculates the percentile corresponding to the chosen confidence level. The formula is:\n",
    "\n",
    "$$\n",
    "VaR = -\\text{Percentile} ( X, 100 \\times (1 - \\alpha) ) \\times \\text{Portfolio Value} \n",
    "$$\n",
    "\n",
    "where:\n",
    "- $X$ is the **historical return distribution**,\n",
    "- $\\alpha$ is the **significance level**,\n",
    "- $\\text{Percentile} (X, 100 \\times (1 - \\alpha))$ gives the **cutoff return** for the worst $\\alpha$% of cases,\n",
    "- The **negative sign** ensures that VaR is expressed as an absolute loss."
   ]
  },
  {
   "cell_type": "code",
   "execution_count": 9,
   "metadata": {},
   "outputs": [
    {
     "name": "stdout",
     "output_type": "stream",
     "text": [
      "23966.564533462046\n"
     ]
    }
   ],
   "source": [
    "confidence_interval = 0.95\n",
    "VaR = -np.percentile(historical_x_day_returns, 100-(confidence_interval*100))*portfolio_value\n",
    "\n",
    "print(VaR)"
   ]
  },
  {
   "cell_type": "code",
   "execution_count": 10,
   "metadata": {},
   "outputs": [
    {
     "data": {
      "image/png": "[encoded data removed]",
      "text/plain": [
       "<Figure size 1000x600 with 1 Axes>"
      ]
     },
     "metadata": {},
     "output_type": "display_data"
    }
   ],
   "source": [
    "historical_x_day_returns_dollars = historical_x_day_returns * portfolio_value\n",
    "\n",
    "plt.figure(figsize=(10, 6))\n",
    "\n",
    "plt.hist(historical_x_day_returns_dollars, bins=100, density=True, alpha=0.5, label=f'{days}-Day Returns')\n",
    "plt.axvline(-VaR, color='red', linestyle='dashed', linewidth=1, label=f'VaR at {int(confidence_interval * 100)}% CL')\n",
    "\n",
    "# Formatting labels and title\n",
    "plt.xlabel(f'{days}-Day Portfolio Return ($)')\n",
    "plt.ylabel('Frequency')\n",
    "plt.title(f'Distribution of Portfolio {days}-Day Returns and Parametric VaR Estimates', fontsize=10, fontweight='bold')\n",
    "\n",
    "plt.xlim(left=-65000, right=65000)\n",
    "plt.legend()\n",
    "plt.show()"
   ]
  },
  {
   "cell_type": "markdown",
   "metadata": {},
   "source": [
    "The histogram represents the **empirical distribution of portfolio returns over 5 days** using the **historical method** for Value at Risk (**VaR**) estimation. The **blue bars** show the **frequency of past gain/loss scenarios**, derived directly from historical returns without assuming a specific distribution. The **red dashed line** indicates the **VaR threshold at 95% confidence**, marking the **5% worst historical losses**. Unlike the parametric approach, which relies on statistical assumptions, this method **uses actual past data** to estimate risk. This visualization helps assess **downside risk** by identifying extreme losses based on historical market behavior."
   ]
  }
 ],
 "metadata": {
  "kernelspec": {
   "display_name": "Python 3",
   "language": "python",
   "name": "python3"
  },
  "language_info": {
   "codemirror_mode": {
    "name": "ipython",
    "version": 3
   },
   "file_extension": ".py",
   "mimetype": "text/x-python",
   "name": "python",
   "nbconvert_exporter": "python",
   "pygments_lexer": "ipython3",
   "version": "3.12.5"
  }
 },
 "nbformat": 4,
 "nbformat_minor": 2
}
