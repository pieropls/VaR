{
 "cells": [
  {
   "cell_type": "markdown",
   "metadata": {},
   "source": [
    "---\n",
    "### **Value at Risk (VaR) - The Monte Carlo Method**\n",
    "---\n",
    "\n",
    "##### **What is Value at Risk (VaR)?**\n",
    "Value at Risk (**VaR**) is a statistical measure used to estimate the potential loss in the value of a financial portfolio over a given time period at a specified confidence level. It answers the question:\n",
    "\n",
    "> *\"What is the maximum expected loss over a given time horizon with a certain probability?\"*\n",
    "\n",
    "The **Monte Carlo method** is a simulation-based approach for estimating VaR by generating multiple possible future portfolio outcomes based on stochastic processes.\n",
    "\n",
    "##### **Mathematical Representation**\n",
    "Given:\n",
    "- **Portfolio value** at time $t$: $P_0$\n",
    "- **Expected return per day**: $\\mu$\n",
    "- **Standard deviation of portfolio returns**: $\\sigma$\n",
    "- **Z-score** (randomly sampled from a standard normal distribution): $Z$\n",
    "- **Time horizon** (number of days): $T$\n",
    "\n",
    "Each simulated **portfolio return** over $T$ days is calculated as:\n",
    "\n",
    "$$\n",
    "\\Delta P = P_0 \\cdot \\mu \\cdot T + P_0 \\cdot \\sigma \\cdot Z \\cdot \\sqrt{T}\n",
    "$$\n",
    "\n",
    "where:\n",
    "- The **first term** represents the deterministic expected return.\n",
    "- The **second term** represents the stochastic element due to volatility.\n",
    "\n",
    "After **N** simulations, we obtain a distribution of possible portfolio returns. The **VaR** is then computed as the **$q^{th}$ percentile** of the simulated returns:\n",
    "\n",
    "$$\n",
    "VaR = -\\text{Percentile}(\\Delta P, (1 - \\alpha) \\times 100)\n",
    "$$\n",
    "\n",
    "where:\n",
    "- $\\alpha$ is the **confidence level** (e.g., 95% → 5th percentile).\n",
    "- **VaR at 95% confidence** represents the **worst 5% loss scenario**.\n",
    "\n",
    "##### **Interpretation**\n",
    "- If **VaR(95%) = \\$10,000**, it means there is a **95% probability that the portfolio will not lose more than $10,000$** over the given time horizon.\n",
    "- Conversely, there is a **5% probability** that losses could **exceed** $10,000$.\n",
    "\n",
    "##### **Advantages of the Monte Carlo Method**\n",
    "1. **Flexibility:** Can be adapted to handle different return distributions if needed.\n",
    "2. **Scenario-Based Analysis:** Can incorporate real-world events and dynamic portfolio behavior.\n",
    "3. **Better Tail Risk Estimation:** Unlike analytical methods (e.g., variance-covariance), Monte Carlo captures extreme losses.\n",
    "\n",
    "##### **Limitations**\n",
    "- **Computationally Expensive:** Requires thousands (or millions) of simulations for accuracy.\n",
    "- **Dependent on Distribution Assumptions:** The accuracy of the results depends on the assumption that **returns are normally distributed**. Specifically, we assume that:\n",
    "  - **Portfolio log returns follow a normal distribution**:  \n",
    "    $$\n",
    "    r \\sim \\mathcal{N}(\\mu, \\sigma^2)\n",
    "    $$\n",
    "  - **Z-scores are drawn from a standard normal distribution**:  \n",
    "    $$\n",
    "    Z \\sim \\mathcal{N}(0,1)\n",
    "    $$\n",
    "  - **Portfolio returns over the time horizon follow**:  \n",
    "    $$\n",
    "    \\Delta P\n",
    "    $$\n",
    "  \n",
    "  If real-world returns deviate significantly from normality (e.g., fat tails, skewness), the Monte Carlo method may **underestimate extreme risks**.\n"
   ]
  },
  {
   "cell_type": "markdown",
   "metadata": {},
   "source": [
    "Importing the necessary libraries."
   ]
  },
  {
   "cell_type": "code",
   "execution_count": 1,
   "metadata": {},
   "outputs": [],
   "source": [
    "import numpy as np\n",
    "import pandas as pd\n",
    "import datetime as dt\n",
    "import yfinance as yf\n",
    "import matplotlib.pyplot as plt\n",
    "from scipy.stats import norm"
   ]
  },
  {
   "cell_type": "markdown",
   "metadata": {},
   "source": [
    "Setting the **time range** for a certain amount of years."
   ]
  },
  {
   "cell_type": "code",
   "execution_count": 2,
   "metadata": {},
   "outputs": [],
   "source": [
    "years     = 15\n",
    "endDate   = dt.datetime.now()\n",
    "startDate = endDate - dt.timedelta(days=365*years)"
   ]
  },
  {
   "cell_type": "markdown",
   "metadata": {},
   "source": [
    "Create a list of **ticker**."
   ]
  },
  {
   "cell_type": "code",
   "execution_count": 3,
   "metadata": {},
   "outputs": [],
   "source": [
    "# SPY := Largest S&P-500 ETF\n",
    "# BND := Largest bond market ETF\n",
    "# GLD := Largest commodity-based ETF that tracks the price of Gold\n",
    "# QQQ := Largest Nasdaq ETF\n",
    "# VTI := Vanguard's all-world stock index\n",
    "\n",
    "tickers = ['SPY', 'BND', 'GLD', 'QQQ', 'VTI']"
   ]
  },
  {
   "cell_type": "markdown",
   "metadata": {},
   "source": [
    "For each of these tickers, we download the daily adjusted **close prices**.\n",
    "\n",
    "NB: We use *adjusted close prices* rather than *normal* ones because *adjusted close prices* account for dividends stock splits and our analysis will be *more accurate* by incorporating those."
   ]
  },
  {
   "cell_type": "code",
   "execution_count": 4,
   "metadata": {},
   "outputs": [
    {
     "name": "stderr",
     "output_type": "stream",
     "text": [
      "[*********************100%***********************]  1 of 1 completed\n",
      "[*********************100%***********************]  1 of 1 completed\n",
      "[*********************100%***********************]  1 of 1 completed\n",
      "[*********************100%***********************]  1 of 1 completed\n",
      "[*********************100%***********************]  1 of 1 completed\n"
     ]
    },
    {
     "data": {
      "text/html": [
       "<div>\n",
       "<style scoped>\n",
       "    .dataframe tbody tr th:only-of-type {\n",
       "        vertical-align: middle;\n",
       "    }\n",
       "\n",
       "    .dataframe tbody tr th {\n",
       "        vertical-align: top;\n",
       "    }\n",
       "\n",
       "    .dataframe thead th {\n",
       "        text-align: right;\n",
       "    }\n",
       "</style>\n",
       "<table border=\"1\" class=\"dataframe\">\n",
       "  <thead>\n",
       "    <tr style=\"text-align: right;\">\n",
       "      <th></th>\n",
       "      <th>SPY</th>\n",
       "      <th>BND</th>\n",
       "      <th>GLD</th>\n",
       "      <th>QQQ</th>\n",
       "      <th>VTI</th>\n",
       "    </tr>\n",
       "    <tr>\n",
       "      <th>Date</th>\n",
       "      <th></th>\n",
       "      <th></th>\n",
       "      <th></th>\n",
       "      <th></th>\n",
       "      <th></th>\n",
       "    </tr>\n",
       "  </thead>\n",
       "  <tbody>\n",
       "    <tr>\n",
       "      <th>2010-02-12</th>\n",
       "      <td>82.010925</td>\n",
       "      <td>51.598274</td>\n",
       "      <td>107.040001</td>\n",
       "      <td>38.222767</td>\n",
       "      <td>41.808720</td>\n",
       "    </tr>\n",
       "    <tr>\n",
       "      <th>2010-02-16</th>\n",
       "      <td>83.301353</td>\n",
       "      <td>51.663383</td>\n",
       "      <td>109.620003</td>\n",
       "      <td>38.711903</td>\n",
       "      <td>42.510994</td>\n",
       "    </tr>\n",
       "    <tr>\n",
       "      <th>2010-02-17</th>\n",
       "      <td>83.696075</td>\n",
       "      <td>51.546185</td>\n",
       "      <td>109.250000</td>\n",
       "      <td>38.930271</td>\n",
       "      <td>42.747650</td>\n",
       "    </tr>\n",
       "    <tr>\n",
       "      <th>2010-02-18</th>\n",
       "      <td>84.189445</td>\n",
       "      <td>51.474560</td>\n",
       "      <td>109.980003</td>\n",
       "      <td>39.174850</td>\n",
       "      <td>42.991898</td>\n",
       "    </tr>\n",
       "    <tr>\n",
       "      <th>2010-02-19</th>\n",
       "      <td>84.364067</td>\n",
       "      <td>51.474560</td>\n",
       "      <td>109.470001</td>\n",
       "      <td>39.157383</td>\n",
       "      <td>43.144588</td>\n",
       "    </tr>\n",
       "  </tbody>\n",
       "</table>\n",
       "</div>"
      ],
      "text/plain": [
       "                  SPY        BND         GLD        QQQ        VTI\n",
       "Date                                                              \n",
       "2010-02-12  82.010925  51.598274  107.040001  38.222767  41.808720\n",
       "2010-02-16  83.301353  51.663383  109.620003  38.711903  42.510994\n",
       "2010-02-17  83.696075  51.546185  109.250000  38.930271  42.747650\n",
       "2010-02-18  84.189445  51.474560  109.980003  39.174850  42.991898\n",
       "2010-02-19  84.364067  51.474560  109.470001  39.157383  43.144588"
      ]
     },
     "execution_count": 4,
     "metadata": {},
     "output_type": "execute_result"
    }
   ],
   "source": [
    "adj_close_df = pd.DataFrame()\n",
    "\n",
    "for ticker in tickers:\n",
    "    data = yf.download(ticker, start=startDate, end=endDate)\n",
    "    adj_close_df[ticker] = data['Adj Close']\n",
    "\n",
    "adj_close_df.head(n=5)"
   ]
  },
  {
   "cell_type": "markdown",
   "metadata": {},
   "source": [
    "Calculate the **daily log returns** and drop any NAs.\n",
    "\n",
    "The **simple return** (or percentage change) is calculated as:\n",
    "\n",
    "$$\n",
    "R_t = \\frac{P_t}{P_{t-1}} - 1\n",
    "$$\n",
    "\n",
    "where:\n",
    "- $R_t$ is the return for day \\( t \\),\n",
    "- $P_t$ is the price at day \\( t \\),\n",
    "- $P_{t-1}$ is the price at the previous day.\n",
    "\n",
    "The **log return** is defined as:\n",
    "\n",
    "$$\n",
    "r_t = \\ln \\left(\\frac{P_t}{P_{t-1}}\\right)\n",
    "$$\n",
    "\n",
    "where $\\ln$ represents the natural logarithm.\n",
    "\n",
    "**Why Use Log Returns?** Logarithmic returns have an important property: **they are additive over time**.\n",
    "\n",
    "For example, given two consecutive days' returns:\n",
    "\n",
    "$$\n",
    "r_t = \\ln \\left(\\frac{P_t}{P_{t-1}}\\right), \\quad r_{t+1} = \\ln \\left(\\frac{P_{t+1}}{P_t}\\right)\n",
    "$$\n",
    "\n",
    "Adding these two:\n",
    "\n",
    "$$\n",
    "r_t + r_{t+1} = \\ln \\left(\\frac{P_t}{P_{t-1}}\\right) + \\ln \\left(\\frac{P_{t+1}}{P_t}\\right)\n",
    "$$\n",
    "\n",
    "Using the logarithmic property:\n",
    "\n",
    "$$\n",
    "\\ln a + \\ln b = \\ln (a \\cdot b)\n",
    "$$\n",
    "\n",
    "we get:\n",
    "\n",
    "$$\n",
    "r_t + r_{t+1} = \\ln \\left(\\frac{P_{t+1}}{P_{t-1}}\\right)\n",
    "$$\n",
    "\n",
    "This means that log returns can be **directly summed over multiple periods**, making them convenient for time-series analysis, portfolio aggregation, and statistical modeling. In contrast, simple returns are **not additive** but must be compounded, making calculations more complex when dealing with multiple periods.\n"
   ]
  },
  {
   "cell_type": "code",
   "execution_count": 5,
   "metadata": {},
   "outputs": [
    {
     "data": {
      "text/html": [
       "<div>\n",
       "<style scoped>\n",
       "    .dataframe tbody tr th:only-of-type {\n",
       "        vertical-align: middle;\n",
       "    }\n",
       "\n",
       "    .dataframe tbody tr th {\n",
       "        vertical-align: top;\n",
       "    }\n",
       "\n",
       "    .dataframe thead th {\n",
       "        text-align: right;\n",
       "    }\n",
       "</style>\n",
       "<table border=\"1\" class=\"dataframe\">\n",
       "  <thead>\n",
       "    <tr style=\"text-align: right;\">\n",
       "      <th></th>\n",
       "      <th>SPY</th>\n",
       "      <th>BND</th>\n",
       "      <th>GLD</th>\n",
       "      <th>QQQ</th>\n",
       "      <th>VTI</th>\n",
       "    </tr>\n",
       "    <tr>\n",
       "      <th>Date</th>\n",
       "      <th></th>\n",
       "      <th></th>\n",
       "      <th></th>\n",
       "      <th></th>\n",
       "      <th></th>\n",
       "    </tr>\n",
       "  </thead>\n",
       "  <tbody>\n",
       "    <tr>\n",
       "      <th>2010-02-16</th>\n",
       "      <td>0.015612</td>\n",
       "      <td>0.001261</td>\n",
       "      <td>0.023817</td>\n",
       "      <td>0.012716</td>\n",
       "      <td>0.016658</td>\n",
       "    </tr>\n",
       "    <tr>\n",
       "      <th>2010-02-17</th>\n",
       "      <td>0.004727</td>\n",
       "      <td>-0.002271</td>\n",
       "      <td>-0.003381</td>\n",
       "      <td>0.005625</td>\n",
       "      <td>0.005552</td>\n",
       "    </tr>\n",
       "    <tr>\n",
       "      <th>2010-02-18</th>\n",
       "      <td>0.005877</td>\n",
       "      <td>-0.001390</td>\n",
       "      <td>0.006660</td>\n",
       "      <td>0.006263</td>\n",
       "      <td>0.005697</td>\n",
       "    </tr>\n",
       "    <tr>\n",
       "      <th>2010-02-19</th>\n",
       "      <td>0.002072</td>\n",
       "      <td>0.000000</td>\n",
       "      <td>-0.004648</td>\n",
       "      <td>-0.000446</td>\n",
       "      <td>0.003545</td>\n",
       "    </tr>\n",
       "    <tr>\n",
       "      <th>2010-02-22</th>\n",
       "      <td>0.000180</td>\n",
       "      <td>-0.000380</td>\n",
       "      <td>-0.003661</td>\n",
       "      <td>-0.002010</td>\n",
       "      <td>-0.001594</td>\n",
       "    </tr>\n",
       "  </tbody>\n",
       "</table>\n",
       "</div>"
      ],
      "text/plain": [
       "                 SPY       BND       GLD       QQQ       VTI\n",
       "Date                                                        \n",
       "2010-02-16  0.015612  0.001261  0.023817  0.012716  0.016658\n",
       "2010-02-17  0.004727 -0.002271 -0.003381  0.005625  0.005552\n",
       "2010-02-18  0.005877 -0.001390  0.006660  0.006263  0.005697\n",
       "2010-02-19  0.002072  0.000000 -0.004648 -0.000446  0.003545\n",
       "2010-02-22  0.000180 -0.000380 -0.003661 -0.002010 -0.001594"
      ]
     },
     "execution_count": 5,
     "metadata": {},
     "output_type": "execute_result"
    }
   ],
   "source": [
    "log_returns = np.log(adj_close_df / adj_close_df.shift(1))\n",
    "log_returns = log_returns.dropna()\n",
    "\n",
    "log_returns.head(n=5)"
   ]
  },
  {
   "cell_type": "markdown",
   "metadata": {},
   "source": [
    "Create a function that will be used to calculate **portfolio expected return**.\n",
    "\n",
    "The expected return is computed as:\n",
    "\n",
    "$$\n",
    "\\mathbb{E}[R] = \\sum w_i \\cdot \\mu_i\n",
    "$$\n",
    "\n",
    "where $w_i$ is the weight of asset $i$ and $\\mu_i$ is its mean log return.\n",
    "\n",
    "*NB*: We are assuming that future returns are based on past returns, which is <u>not</u> a reliable assumption."
   ]
  },
  {
   "cell_type": "code",
   "execution_count": 6,
   "metadata": {},
   "outputs": [],
   "source": [
    "def expected_return(weights, log_returns):\n",
    "    \"\"\"\n",
    "    Computes the expected return of a portfolio given asset weights and log returns.\n",
    "\n",
    "    Parameters:\n",
    "    ----------\n",
    "    weights : numpy.ndarray\n",
    "        A 1D array representing the allocation of weights for each asset in the portfolio.\n",
    "\n",
    "    log_returns : pandas.DataFrame\n",
    "        A DataFrame where each column represents an asset, and each row represents a time period.\n",
    "        The values are the log returns of each asset.\n",
    "\n",
    "    Returns:\n",
    "    -------\n",
    "    float\n",
    "        The expected return of the portfolio, computed as the weighted average of the mean log returns.\n",
    "    \"\"\"\n",
    "    return np.sum(log_returns.mean() * weights)"
   ]
  },
  {
   "cell_type": "markdown",
   "metadata": {},
   "source": [
    "Create a covariance matrix for all the securities.\n",
    "\n",
    "The **covariance matrix** is a **square matrix** that contains the covariances between different assets in a portfolio. It helps measure how asset returns move together.\n",
    "\n",
    "For a portfolio with **n** assets, the covariance matrix $\\Sigma$ is an $n \\times n$ matrix where the element at position $(i, j)$ represents the covariance between the returns of asset $i$ and asset $j$:\n",
    "\n",
    "$$\n",
    "\\Sigma = \n",
    "\\begin{bmatrix}\n",
    "\\sigma_{1,1} & \\sigma_{1,2} & \\dots & \\sigma_{1,n} \\\\\n",
    "\\sigma_{2,1} & \\sigma_{2,2} & \\dots & \\sigma_{2,n} \\\\\n",
    "\\vdots & \\vdots & \\ddots & \\vdots \\\\\n",
    "\\sigma_{n,1} & \\sigma_{n,2} & \\dots & \\sigma_{n,n}\n",
    "\\end{bmatrix}\n",
    "$$\n",
    "\n",
    "where $\\sigma_{i,j}$ is the covariance between asset $i$ and asset $j$, given by:\n",
    "\n",
    "$$\n",
    "\\sigma_{i,j} = \\text{Cov}(R_i, R_j) = \\mathbb{E}[(R_i - \\mu_i)(R_j - \\mu_j)]\n",
    "$$\n",
    "\n",
    "- If $i = j$, then $\\sigma_{i,j}$ represents the **variance** of asset $i$ $(\\sigma^2_i)$.\n",
    "- If $i \\neq j$, then $\\sigma_{i,j}$ represents the **covariance** between assets $i$ and $j$."
   ]
  },
  {
   "cell_type": "code",
   "execution_count": 7,
   "metadata": {},
   "outputs": [
    {
     "data": {
      "text/html": [
       "<div>\n",
       "<style scoped>\n",
       "    .dataframe tbody tr th:only-of-type {\n",
       "        vertical-align: middle;\n",
       "    }\n",
       "\n",
       "    .dataframe tbody tr th {\n",
       "        vertical-align: top;\n",
       "    }\n",
       "\n",
       "    .dataframe thead th {\n",
       "        text-align: right;\n",
       "    }\n",
       "</style>\n",
       "<table border=\"1\" class=\"dataframe\">\n",
       "  <thead>\n",
       "    <tr style=\"text-align: right;\">\n",
       "      <th></th>\n",
       "      <th>SPY</th>\n",
       "      <th>BND</th>\n",
       "      <th>GLD</th>\n",
       "      <th>QQQ</th>\n",
       "      <th>VTI</th>\n",
       "    </tr>\n",
       "  </thead>\n",
       "  <tbody>\n",
       "    <tr>\n",
       "      <th>SPY</th>\n",
       "      <td>1.156387e-04</td>\n",
       "      <td>2.427886e-07</td>\n",
       "      <td>0.000005</td>\n",
       "      <td>0.000129</td>\n",
       "      <td>1.180729e-04</td>\n",
       "    </tr>\n",
       "    <tr>\n",
       "      <th>BND</th>\n",
       "      <td>2.427886e-07</td>\n",
       "      <td>9.380608e-06</td>\n",
       "      <td>0.000009</td>\n",
       "      <td>0.000001</td>\n",
       "      <td>4.463537e-07</td>\n",
       "    </tr>\n",
       "    <tr>\n",
       "      <th>GLD</th>\n",
       "      <td>4.990221e-06</td>\n",
       "      <td>9.108827e-06</td>\n",
       "      <td>0.000095</td>\n",
       "      <td>0.000006</td>\n",
       "      <td>5.554348e-06</td>\n",
       "    </tr>\n",
       "    <tr>\n",
       "      <th>QQQ</th>\n",
       "      <td>1.287985e-04</td>\n",
       "      <td>1.117414e-06</td>\n",
       "      <td>0.000006</td>\n",
       "      <td>0.000166</td>\n",
       "      <td>1.315384e-04</td>\n",
       "    </tr>\n",
       "    <tr>\n",
       "      <th>VTI</th>\n",
       "      <td>1.180729e-04</td>\n",
       "      <td>4.463537e-07</td>\n",
       "      <td>0.000006</td>\n",
       "      <td>0.000132</td>\n",
       "      <td>1.215346e-04</td>\n",
       "    </tr>\n",
       "  </tbody>\n",
       "</table>\n",
       "</div>"
      ],
      "text/plain": [
       "              SPY           BND       GLD       QQQ           VTI\n",
       "SPY  1.156387e-04  2.427886e-07  0.000005  0.000129  1.180729e-04\n",
       "BND  2.427886e-07  9.380608e-06  0.000009  0.000001  4.463537e-07\n",
       "GLD  4.990221e-06  9.108827e-06  0.000095  0.000006  5.554348e-06\n",
       "QQQ  1.287985e-04  1.117414e-06  0.000006  0.000166  1.315384e-04\n",
       "VTI  1.180729e-04  4.463537e-07  0.000006  0.000132  1.215346e-04"
      ]
     },
     "execution_count": 7,
     "metadata": {},
     "output_type": "execute_result"
    }
   ],
   "source": [
    "cov_matrix = log_returns.cov()\n",
    "cov_matrix"
   ]
  },
  {
   "cell_type": "code",
   "execution_count": 8,
   "metadata": {},
   "outputs": [
    {
     "data": {
      "image/png": "[encoded data removed]",
      "text/plain": [
       "<Figure size 600x400 with 2 Axes>"
      ]
     },
     "metadata": {},
     "output_type": "display_data"
    }
   ],
   "source": [
    "# Bonus: plotting the covariance matrix\n",
    "import seaborn as sns\n",
    "\n",
    "# Plot heatmap\n",
    "plt.figure(figsize=(6, 4))\n",
    "sns.heatmap(cov_matrix, annot=True, fmt=\".2e\", cmap=\"coolwarm\", center=cov_matrix.values.mean(), linewidths=0.5)\n",
    "\n",
    "plt.title(\"Covariance Matrix Heatmap\")\n",
    "plt.show()"
   ]
  },
  {
   "cell_type": "markdown",
   "metadata": {},
   "source": [
    "Create a function that will be used to calculate **portfolio standard deviation**.\n",
    "\n",
    "The standard deviation (volatility) of the portfolio can be computed as:\n",
    "\n",
    "$$\n",
    "\\sigma_p = \\sqrt{w^T \\Sigma w}\n",
    "$$\n",
    "\n",
    "where $w$ is the weight vector and $\\Sigma$ is the covariance matrix."
   ]
  },
  {
   "cell_type": "code",
   "execution_count": 9,
   "metadata": {},
   "outputs": [],
   "source": [
    "def standard_deviation(weights, cov_matrix):\n",
    "    \"\"\"\n",
    "    Computes the standard deviation (volatility) of a portfolio given asset weights and \n",
    "    the covariance matrix of asset returns.\n",
    "\n",
    "    Parameters:\n",
    "    ----------\n",
    "    weights : numpy.ndarray\n",
    "        A 1D array representing the allocation of weights for each asset in the portfolio.\n",
    "\n",
    "    cov_matrix : numpy.ndarray\n",
    "        A 2D square matrix representing the covariance matrix of asset returns.\n",
    "        The (i, j) entry represents the covariance between asset i and asset j.\n",
    "\n",
    "    Returns:\n",
    "    -------\n",
    "    float\n",
    "        The standard deviation (volatility) of the portfolio, computed as:\n",
    "    \"\"\"\n",
    "    variance = weights.T @ cov_matrix @ weights\n",
    "    return np.sqrt(variance)"
   ]
  },
  {
   "cell_type": "markdown",
   "metadata": {},
   "source": [
    "Create a function that gives a random **Z-score** based on normal distribution. This is going to be very useful to run 10'000 simulations.\n",
    "\n",
    "The output will represent a sample from:\n",
    "$$\n",
    "\\mathcal{N}(0,1),\n",
    "$$\n",
    "commonly used in statistics for hypothesis testing and probability calculations."
   ]
  },
  {
   "cell_type": "code",
   "execution_count": 10,
   "metadata": {},
   "outputs": [],
   "source": [
    "def random_z_score():\n",
    "    \"\"\"\n",
    "    Generates a random Z-score from a standard normal distribution.\n",
    "\n",
    "    Returns:\n",
    "    -------\n",
    "    float\n",
    "        A randomly sampled value from a standard normal distribution (mean = 0, std = 1).\n",
    "    \"\"\"\n",
    "    return np.random.normal(0, 1)"
   ]
  },
  {
   "cell_type": "markdown",
   "metadata": {},
   "source": [
    "Create a function to calculate **scenarioGainLoss**. The function estimates the **potential gain or loss** of a portfolio over a given time horizon based on **expected returns** and **volatility**.\n",
    "\n",
    "The formula used is:\n",
    "\n",
    "$$\n",
    "\\Delta P = P_0 \\cdot \\mu \\cdot T + P_0 \\cdot \\sigma \\cdot Z \\cdot \\sqrt{T}\n",
    "$$\n",
    "\n",
    "where:\n",
    "- $P_0$ = initial portfolio value\n",
    "- $\\mu$ = expected return per day\n",
    "- $T$ = number of days (time horizon)\n",
    "- $\\sigma$ = standard deviation (volatility) of portfolio returns\n",
    "- $Z$ = Z-score (number of standard deviations from the mean)\n",
    "\n",
    "**Interpretation:**\n",
    "1. **Expected Return Component:**\n",
    "   $$\n",
    "   P_0 \\cdot \\mu \\cdot T\n",
    "   $$\n",
    "   - This represents the deterministic growth of the portfolio based on the expected return over time.\n",
    "\n",
    "2. **Volatility Component:**\n",
    "   $$\n",
    "   P_0 \\cdot \\sigma \\cdot Z \\cdot \\sqrt{T}\n",
    "   $$\n",
    "   - This captures the uncertainty due to market fluctuations, scaled by the Z-score to reflect potential upside/downside movements.\n",
    "\n",
    "This formula helps **simulate potential outcomes** for portfolio value under different risk scenarios.\n"
   ]
  },
  {
   "cell_type": "code",
   "execution_count": 11,
   "metadata": {},
   "outputs": [],
   "source": [
    "def scenario_gain_loss(portfolio_value, portfolio_expected_return, portfolio_std_dev, z_score, days):\n",
    "    \"\"\"\n",
    "    Estimates the potential gain or loss of a portfolio over a given time horizon using \n",
    "    expected returns and volatility.\n",
    "\n",
    "    Parameters:\n",
    "    ----------\n",
    "    portfolio_value : float\n",
    "        The current value of the portfolio.\n",
    "\n",
    "    portfolio_expected_return : float\n",
    "        The expected daily return of the portfolio.\n",
    "\n",
    "    portfolio_std_dev : float\n",
    "        The standard deviation (volatility) of the portfolio returns.\n",
    "\n",
    "    z_score : float\n",
    "        The Z-score representing the number of standard deviations away from the mean \n",
    "        in a normal distribution.\n",
    "\n",
    "    days : int\n",
    "        The time horizon (number of days) over which the scenario is projected.\n",
    "\n",
    "    Returns:\n",
    "    -------\n",
    "    float\n",
    "        The projected portfolio value change over the given period, incorporating both \n",
    "        expected returns and volatility.\n",
    "    \"\"\"\n",
    "    return portfolio_value * portfolio_expected_return * days + portfolio_value * portfolio_std_dev * z_score * np.sqrt(days)"
   ]
  },
  {
   "cell_type": "markdown",
   "metadata": {},
   "source": [
    "Create an **equally weighted portfolio** and find total portfolio **expected return and standard deviation**."
   ]
  },
  {
   "cell_type": "code",
   "execution_count": 12,
   "metadata": {},
   "outputs": [],
   "source": [
    "# Assume a portfolio value of $1M, equally weighted.\n",
    "portfolio_value = 1000000\n",
    "weights         = np.array([1 / len(tickers)] * len(tickers))\n",
    "\n",
    "# Calculate portfolio expected returns and standard deviation\n",
    "portfolio_expected_return = expected_return(weights, log_returns)\n",
    "portfolio_std_dev         = standard_deviation(weights, cov_matrix)"
   ]
  },
  {
   "cell_type": "markdown",
   "metadata": {},
   "source": [
    "Run 10'000 simulations."
   ]
  },
  {
   "cell_type": "code",
   "execution_count": 13,
   "metadata": {},
   "outputs": [],
   "source": [
    "days = 5\n",
    "simulations = 10000\n",
    "scenarioReturn = []\n",
    "\n",
    "for i in range(simulations):\n",
    "    z_score = random_z_score()\n",
    "    scenarioReturn.append(scenario_gain_loss(portfolio_value, portfolio_expected_return, portfolio_std_dev, z_score, days))"
   ]
  },
  {
   "cell_type": "markdown",
   "metadata": {},
   "source": [
    "Specify a **Confidence Interval** and **calculate VaR**.\n",
    "\n",
    "The **VaR is computed** as:\n",
    "\n",
    "$$\n",
    "VaR = -\\text{Percentile}( \\text{scenarioReturn}, 100 \\times (1 - \\text{confidence interval}) )\n",
    "$$\n",
    "\n",
    "where:\n",
    "- `scenarioReturn` contains simulated portfolio returns over `days` using **Monte Carlo simulation**.\n",
    "- `confidence_interval = 0.95` means we are computing **5% worst-case losses**.\n",
    "- `np.percentile()` finds the **5th percentile** of simulated returns.\n",
    "\n",
    "**Monte Carlo Simulation Process**\n",
    "\n",
    "1. **Set Parameters:**\n",
    "   - `days = 5`: The risk horizon is 5 days.\n",
    "   - `simulations = 10,000`: We run 10,000 simulations for portfolio returns.\n",
    "   - `confidence_interval = 0.95`: We calculate the **5% worst-case loss**.\n",
    "\n",
    "2. **Generate Scenarios:**\n",
    "   - For each simulation, a **random Z-score** is drawn from a standard normal distribution.\n",
    "   - This Z-score is used in `scenario_gain_loss()` to estimate a possible portfolio return over `days`.\n",
    "   - The result is stored in `scenarioReturn`.\n",
    "\n",
    "3. **Compute Value at Risk (VaR):**\n",
    "   - We take the **5th percentile** of the simulated returns, which represents the maximum loss at the **95% confidence level**."
   ]
  },
  {
   "cell_type": "code",
   "execution_count": 14,
   "metadata": {},
   "outputs": [
    {
     "name": "stdout",
     "output_type": "stream",
     "text": [
      "24960.491911718047\n",
      "36351.19115103925\n"
     ]
    }
   ],
   "source": [
    "confidence_interval = 0.95\n",
    "VaR = -np.percentile(scenarioReturn, 100 * (1 - confidence_interval))\n",
    "\n",
    "print(VaR)\n",
    "\n",
    "# NB: VaR is obviously increasing with the confidence_interval level and the number of days considered\n",
    "print(-np.percentile(scenarioReturn, 100 * (1 - 0.99)))"
   ]
  },
  {
   "cell_type": "markdown",
   "metadata": {},
   "source": [
    "Plot **results**."
   ]
  },
  {
   "cell_type": "code",
   "execution_count": 15,
   "metadata": {},
   "outputs": [
    {
     "data": {
      "image/png": "[encoded data removed]",
      "text/plain": [
       "<Figure size 1000x600 with 1 Axes>"
      ]
     },
     "metadata": {},
     "output_type": "display_data"
    }
   ],
   "source": [
    "plt.figure(figsize=(10, 6))\n",
    "\n",
    "# Plot the histogram\n",
    "plt.hist(scenarioReturn, bins=50, density=True, alpha = 0.5, label=f'{days}-Day Returns')\n",
    "\n",
    "# Formatting labels and title\n",
    "plt.xlabel('Scenario Gain/Loss ($)')\n",
    "plt.ylabel('Frequency')\n",
    "plt.title(f'Distribution of Portfolio Gain/Loss Over {days} Days', fontsize=10, fontweight='bold')\n",
    "\n",
    "# Add Value at Risk (VaR) line\n",
    "plt.axvline(-VaR, color='red', linestyle='dashed', linewidth=1, label=f'VaR at {confidence_interval:.0%} confidence level')\n",
    "\n",
    "# Shade the area under the VaR threshold\n",
    "plt.fill_betweenx(y=np.linspace(0, plt.ylim()[1], 100), x1=-VaR, x2=min(scenarioReturn), color='red', alpha=0.2)\n",
    "\n",
    "plt.legend()\n",
    "plt.show()"
   ]
  },
  {
   "cell_type": "markdown",
   "metadata": {},
   "source": [
    "The histogram represents the **simulated distribution of portfolio returns over 5 days** using a Monte Carlo approach. The blue bars show the **frequency of different gain/loss scenarios**, with most returns centered around the mean, forming a normal-like shape. The **red dashed line** marks the **Value at Risk (VaR) at 95% confidence**, indicating the **5% worst expected loss**. The **shaded red area** highlights these extreme loss scenarios, meaning there is a **5% probability of losing more than this amount**. This visualization helps assess downside risk, showing both typical portfolio behavior and worst-case losses."
   ]
  }
 ],
 "metadata": {
  "kernelspec": {
   "display_name": "Python 3",
   "language": "python",
   "name": "python3"
  },
  "language_info": {
   "codemirror_mode": {
    "name": "ipython",
    "version": 3
   },
   "file_extension": ".py",
   "mimetype": "text/x-python",
   "name": "python",
   "nbconvert_exporter": "python",
   "pygments_lexer": "ipython3",
   "version": "3.12.5"
  }
 },
 "nbformat": 4,
 "nbformat_minor": 2
}
